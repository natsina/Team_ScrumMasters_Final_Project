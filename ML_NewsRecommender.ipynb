{
  "nbformat": 4,
  "nbformat_minor": 0,
  "metadata": {
    "colab": {
      "name": "Untitled0.ipynb",
      "provenance": [],
      "authorship_tag": "ABX9TyMGTKjqCwdf9JrFxhe2Haez",
      "include_colab_link": true
    },
    "kernelspec": {
      "name": "python3",
      "display_name": "Python 3"
    },
    "language_info": {
      "name": "python"
    }
  },
  "cells": [
    {
      "cell_type": "markdown",
      "metadata": {
        "id": "view-in-github",
        "colab_type": "text"
      },
      "source": [
        "<a href=\"https://colab.research.google.com/github/natsina/Team_ScrumMasters_Final_Project/blob/main/ML_NewsRecommender.ipynb\" target=\"_parent\"><img src=\"https://colab.research.google.com/assets/colab-badge.svg\" alt=\"Open In Colab\"/></a>"
      ]
    },
    {
      "cell_type": "code",
      "execution_count": null,
      "metadata": {
        "id": "6RONjIAP0sfk"
      },
      "outputs": [],
      "source": [
        "!pip install ktrain==0.26.2"
      ]
    },
    {
      "cell_type": "code",
      "source": [
        "import os\n",
        "import numpy as np\n",
        "import pandas as pd\n",
        "import ktrain\n",
        "from sklearn.datasets import fetch_20newsgroups"
      ],
      "metadata": {
        "id": "fW-qxHFD1UDZ"
      },
      "execution_count": 2,
      "outputs": []
    },
    {
      "cell_type": "code",
      "source": [
        "remove =('headers','footers','quotes')\n",
        "train_dataset = fetch_20newsgroups(subset='train',remove=remove)\n",
        "test_dataset = fetch_20newsgroups(subset='test',remove=remove)\n",
        "\n",
        "texts = train_dataset.data + test_dataset.data"
      ],
      "metadata": {
        "id": "Ggxha-_j1tMi"
      },
      "execution_count": 6,
      "outputs": []
    },
    {
      "cell_type": "code",
      "source": [
        "%%time\n",
        "tm = ktrain.text.get_topic_model(texts, n_features=10000)"
      ],
      "metadata": {
        "id": "ArjMg2_32G9A",
        "outputId": "4180ac5d-c9e0-4829-fd6b-edddf6d99471",
        "colab": {
          "base_uri": "https://localhost:8080/"
        }
      },
      "execution_count": 7,
      "outputs": [
        {
          "output_type": "stream",
          "name": "stdout",
          "text": [
            "n_topics automatically set to 97\n",
            "lang: en\n",
            "preprocessing texts...\n",
            "fitting model...\n",
            "iteration: 1 of max_iter: 5\n",
            "iteration: 2 of max_iter: 5\n",
            "iteration: 3 of max_iter: 5\n",
            "iteration: 4 of max_iter: 5\n",
            "iteration: 5 of max_iter: 5\n",
            "done.\n",
            "CPU times: user 3min 4s, sys: 2min 16s, total: 5min 21s\n",
            "Wall time: 2min 51s\n"
          ]
        }
      ]
    },
    {
      "cell_type": "code",
      "source": [
        "tm.build(texts,threshold=0.25)"
      ],
      "metadata": {
        "id": "7iBIcoq94dhw",
        "outputId": "c7f10383-68d2-4beb-ee26-0b1444865282",
        "colab": {
          "base_uri": "https://localhost:8080/"
        }
      },
      "execution_count": 8,
      "outputs": [
        {
          "output_type": "stream",
          "name": "stdout",
          "text": [
            "done.\n"
          ]
        }
      ]
    },
    {
      "cell_type": "code",
      "source": [
        "tm.train_recommender()"
      ],
      "metadata": {
        "id": "hWzTvTnY40TT"
      },
      "execution_count": 9,
      "outputs": []
    },
    {
      "cell_type": "code",
      "source": [
        "rawtext= \"\"\"\n",
        "The “ape improvement proposals” ratified in a vote that closed late Wednesday by \n",
        "the so-called decentralized community, giving owners the option to lock up their tokens for a period of time in exchange for more ApeCoin in the future. While the logic of such an agreement may seem circular, handing out incentives to remain invested has \n",
        "become a fairly common strategy in crypto. \n",
        "\"\"\""
      ],
      "metadata": {
        "id": "VsxT17Iz5AEL"
      },
      "execution_count": 10,
      "outputs": []
    },
    {
      "cell_type": "code",
      "source": [
        "\n",
        "tm.recommend(text=rawtext, n=3)"
      ],
      "metadata": {
        "id": "pG8oGVAG7KZT",
        "outputId": "bf02073a-1b91-445a-b5d5-ebfbf91b5d82",
        "colab": {
          "base_uri": "https://localhost:8080/"
        }
      },
      "execution_count": 12,
      "outputs": [
        {
          "output_type": "execute_result",
          "data": {
            "text/plain": [
              "[{'doc_id': 594,\n",
              "  'text': '\\n\\nI assume that you are talking about the appeals processes, etc.?\\nWell, it should be noted that people who are imprisoned for life\\nwill also tend to appeal (though not quite as much in the \"final\\nhours.\"\\n\\nAnyway, economics is not a very good reason to either favor or oppose\\nthe punishment.',\n",
              "  'topic_id': 42,\n",
              "  'topic_proba': 0.5425233052955453},\n",
              " {'doc_id': 844,\n",
              "  'text': '\\n\\tPerhaps we ought not to have supported a known genocidist?\\n\\tProvided him with weapon systems, tactical support, technology,\\netc.\\n\\n\\tWe made Suddam Hussein.\\n\\n\\tWhat did Bush call him? Oh yes, an ally and a freind.\\n\\n\\n---  \\n\\n  \" I\\'d Cheat on Hillary Too.\"',\n",
              "  'topic_id': 42,\n",
              "  'topic_proba': 0.5313113189308971},\n",
              " {'doc_id': 1081,\n",
              "  'text': \"What is the status of cruptology for private citizens throughout the\\nworld? or, more clearly, is there a listing of countries and their\\npolicies on citizens encrypting electronic data?  \\n\\nI'm curious how the Europeans handle this, for instance.\",\n",
              "  'topic_id': 42,\n",
              "  'topic_proba': 0.39300398853599255}]"
            ]
          },
          "metadata": {},
          "execution_count": 12
        }
      ]
    },
    {
      "cell_type": "code",
      "source": [
        "for i, doc in enumerate(tm.recommend(text=rawtext, n=3)):\n",
        "  print('Result #%s'%(i+1))\n",
        "  print('Text \\n')\n",
        "  print(\" \".join(doc['text'].split()[:500]))\n",
        "  print()"
      ],
      "metadata": {
        "id": "WRNxicxx6Qw_",
        "outputId": "b7170519-18a6-4d0d-c15d-be60eeb3a5d7",
        "colab": {
          "base_uri": "https://localhost:8080/"
        }
      },
      "execution_count": 14,
      "outputs": [
        {
          "output_type": "stream",
          "name": "stdout",
          "text": [
            "Result #1\n",
            "Text \n",
            "\n",
            "I assume that you are talking about the appeals processes, etc.? Well, it should be noted that people who are imprisoned for life will also tend to appeal (though not quite as much in the \"final hours.\" Anyway, economics is not a very good reason to either favor or oppose the punishment.\n",
            "\n",
            "Result #2\n",
            "Text \n",
            "\n",
            "Perhaps we ought not to have supported a known genocidist? Provided him with weapon systems, tactical support, technology, etc. We made Suddam Hussein. What did Bush call him? Oh yes, an ally and a freind. --- \" I'd Cheat on Hillary Too.\"\n",
            "\n",
            "Result #3\n",
            "Text \n",
            "\n",
            "What is the status of cruptology for private citizens throughout the world? or, more clearly, is there a listing of countries and their policies on citizens encrypting electronic data? I'm curious how the Europeans handle this, for instance.\n",
            "\n"
          ]
        }
      ]
    }
  ]
}